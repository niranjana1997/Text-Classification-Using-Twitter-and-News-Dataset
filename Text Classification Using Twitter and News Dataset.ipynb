{
  "cells": [
    {
      "cell_type": "markdown",
      "metadata": {
        "id": "view-in-github",
        "colab_type": "text"
      },
      "source": [
        "<a href=\"https://colab.research.google.com/github/niranjana1997/Twitter-Topic-Classification/blob/main/Text%20Classification%20Using%20Twitter%20and%20News%20Dataset.ipynb\" target=\"_parent\"><img src=\"https://colab.research.google.com/assets/colab-badge.svg\" alt=\"Open In Colab\"/></a>"
      ]
    },
    {
      "cell_type": "markdown",
      "source": [
        "Installing Libraries"
      ],
      "metadata": {
        "id": "qLMtyLIMvA-U"
      }
    },
    {
      "cell_type": "code",
      "execution_count": 1,
      "metadata": {
        "id": "nePi7e3V-VDl"
      },
      "outputs": [],
      "source": [
        "!pip install tweepy --quiet"
      ]
    },
    {
      "cell_type": "markdown",
      "source": [
        "#####Running the code.py (which contains the Twitter API tokens) and removing the file"
      ],
      "metadata": {
        "id": "3QspgPQoyyd6"
      }
    },
    {
      "cell_type": "code",
      "execution_count": 2,
      "metadata": {
        "id": "Hn9B1jxp_Wi0"
      },
      "outputs": [],
      "source": [
        "# Impoerting the code.py which contains the Twitter API tokens\n",
        "%run code.py\n",
        "!rm code.py"
      ]
    },
    {
      "cell_type": "markdown",
      "source": [
        "Importing required libraries"
      ],
      "metadata": {
        "id": "yYRPiTzSvJOK"
      }
    },
    {
      "cell_type": "code",
      "execution_count": null,
      "metadata": {
        "id": "Yk-Pup-g_dbD"
      },
      "outputs": [],
      "source": [
        "import tweepy\n",
        "\n",
        "import pandas as pd\n",
        "import seaborn as sns\n",
        "import matplotlib.pyplot as plt\n",
        "\n",
        "\n",
        "import pandas as pd\n",
        "import numpy as np\n",
        "import re\n",
        "import string\n",
        "import nltk\n",
        "from nltk.corpus import stopwords\n",
        "from nltk.stem import WordNetLemmatizer\n",
        "\n",
        "nltk.download('stopwords')\n",
        "nltk.download('wordnet')\n",
        "nltk.download('omw-1.4')\n",
        "\n",
        "from sklearn.preprocessing import LabelEncoder\n",
        "\n",
        "from sklearn.feature_extraction.text import TfidfVectorizer\n",
        "from sklearn.model_selection import train_test_split, cross_val_score\n",
        "from sklearn.naive_bayes import MultinomialNB\n",
        "from sklearn.linear_model import LogisticRegression\n",
        "from sklearn.ensemble import RandomForestClassifier\n",
        "from sklearn.svm import LinearSVC\n",
        "from sklearn.metrics import accuracy_score, classification_report, precision_score, recall_score, f1_score, confusion_matrix, matthews_corrcoef\n",
        "from sklearn.metrics import precision_recall_fscore_support as score"
      ]
    },
    {
      "cell_type": "markdown",
      "metadata": {
        "id": "57TK7YNWH25D"
      },
      "source": [
        "##### Getting Data using Twitter API"
      ]
    },
    {
      "cell_type": "code",
      "execution_count": 4,
      "metadata": {
        "id": "TuFBM9ZV_g4U"
      },
      "outputs": [],
      "source": [
        "# Authenticate to Twitter\n",
        "auth = tweepy.OAuthHandler(CONSUMER_KEY, CONSUMER_SECRET)\n",
        "auth.set_access_token(ACCESS_TOKEN, ACCESS_TOKEN_SECRET)\n",
        "\n",
        "# API object is created\n",
        "api = tweepy.API(auth, wait_on_rate_limit=True)\n",
        "\n",
        "# Tweets are collected using API object\n",
        "politics = \"election OR government OR policy OR voting OR democracy OR parliament OR Republican OR Democrat\"\n",
        "sports = \"football OR basketball OR soccer OR tennis OR Olympics OR athletics OR swimming OR fifa OR American Football OR NFL\"\n",
        "entertainment = \"movie OR music OR TV show OR celebrity OR award OR Oscar OR actor OR actress OR TV OR film OR Hollywood OR theatre OR cinema\"\n",
        "technology = 'computer OR smartphone OR software OR internet OR AI OR ChatGPT OR Artifical Intelligence OR Data Science OR robot OR robotics'\n",
        "health = 'medicine OR fitness OR diet OR disease OR mental health OR covid OR hospital OR flu OR medical OR vitamin OR nutrients'\n",
        "business = 'finance OR marketing OR entrepreneurship OR startup OR economy OR accounts OR NASDAQ or bank'\n",
        "travel = 'vacation OR destination OR adventure OR tourism OR hotel OR flight OR airport OR airbnb OR expedia OR car rental'\n",
        "food = 'recipe OR restaurant OR cooking OR cuisine OR nutrition OR vegan OR vegetarian OR grocery OR fruits OR vegetable OR meat'\n",
        "education = 'school OR university OR learning OR teacher OR student OR professor OR class OR assignment OR homework OR quiz'\n",
        "law = 'legal system OR court OR trial OR justice OR rights OR bail OR judge OR attorney OR lawyer'\n",
        "\n",
        "tweets = tweepy.Cursor(api.search, q=politics, lang=\"en\", tweet_mode='extended').items(1000)\n",
        "# list of data from 'tweets' are created\n",
        "tweet_data = [[tweet.id, tweet.created_at, tweet.full_text] for tweet in tweets]\n",
        "# Converting list to DataFrame\n",
        "tweets_df = pd.DataFrame(tweet_data, columns=[\"id\", \"created_at\", \"text\"])\n",
        "# converting dataframe to save csv\n",
        "tweets_df.to_csv(\"Politics.csv\", index=False)"
      ]
    },
    {
      "cell_type": "markdown",
      "metadata": {
        "id": "7nypSOaRsUf3"
      },
      "source": [
        "#### Data Exploration & Pre-Processing"
      ]
    },
    {
      "cell_type": "code",
      "execution_count": 5,
      "metadata": {
        "id": "NKtnDL7R-EqC"
      },
      "outputs": [],
      "source": [
        "# Getting data from the excel file (Combined_Dataset.xlsx)\n",
        "tweets_df = pd.read_excel(\"New Dataset - 10 Classes.xlsx\")"
      ]
    },
    {
      "cell_type": "code",
      "source": [
        "# viewig the dataset before pre-processing\n",
        "tweets_df"
      ],
      "metadata": {
        "id": "FTbNyNoRpYzB",
        "colab": {
          "base_uri": "https://localhost:8080/",
          "height": 424
        },
        "outputId": "19cbe59e-ef5c-4d6a-952f-0056a33ae395"
      },
      "execution_count": 6,
      "outputs": [
        {
          "output_type": "execute_result",
          "data": {
            "text/plain": [
              "                                                   text     label\n",
              "0     Introducing Silvergate Capital. A California b...  Business\n",
              "1     RT @shaandelhite: In the Cambridge lecture, a ...  Business\n",
              "2     RT @GcbGulf: Financial freedom is now a realit...  Business\n",
              "3     RT @GueshMela: \".....But, we are just survivin...  Business\n",
              "4     RT @GcbGulf: Financial freedom is now a realit...  Business\n",
              "...                                                 ...       ...\n",
              "8281  @pulte I was just in an accident that totaled ...    Travel\n",
              "8282  RT @erinriediger: My transportation costs for ...    Travel\n",
              "8283  RT @erinriediger: My transportation costs for ...    Travel\n",
              "8284  Just booked the rental car for NYC. So many pp...    Travel\n",
              "8285  RT @SeamusBlackley: I once picked up @jimmyfal...    Travel\n",
              "\n",
              "[8286 rows x 2 columns]"
            ],
            "text/html": [
              "\n",
              "  <div id=\"df-5caac6b2-b62a-4e05-8e94-33d6889a120e\">\n",
              "    <div class=\"colab-df-container\">\n",
              "      <div>\n",
              "<style scoped>\n",
              "    .dataframe tbody tr th:only-of-type {\n",
              "        vertical-align: middle;\n",
              "    }\n",
              "\n",
              "    .dataframe tbody tr th {\n",
              "        vertical-align: top;\n",
              "    }\n",
              "\n",
              "    .dataframe thead th {\n",
              "        text-align: right;\n",
              "    }\n",
              "</style>\n",
              "<table border=\"1\" class=\"dataframe\">\n",
              "  <thead>\n",
              "    <tr style=\"text-align: right;\">\n",
              "      <th></th>\n",
              "      <th>text</th>\n",
              "      <th>label</th>\n",
              "    </tr>\n",
              "  </thead>\n",
              "  <tbody>\n",
              "    <tr>\n",
              "      <th>0</th>\n",
              "      <td>Introducing Silvergate Capital. A California b...</td>\n",
              "      <td>Business</td>\n",
              "    </tr>\n",
              "    <tr>\n",
              "      <th>1</th>\n",
              "      <td>RT @shaandelhite: In the Cambridge lecture, a ...</td>\n",
              "      <td>Business</td>\n",
              "    </tr>\n",
              "    <tr>\n",
              "      <th>2</th>\n",
              "      <td>RT @GcbGulf: Financial freedom is now a realit...</td>\n",
              "      <td>Business</td>\n",
              "    </tr>\n",
              "    <tr>\n",
              "      <th>3</th>\n",
              "      <td>RT @GueshMela: \".....But, we are just survivin...</td>\n",
              "      <td>Business</td>\n",
              "    </tr>\n",
              "    <tr>\n",
              "      <th>4</th>\n",
              "      <td>RT @GcbGulf: Financial freedom is now a realit...</td>\n",
              "      <td>Business</td>\n",
              "    </tr>\n",
              "    <tr>\n",
              "      <th>...</th>\n",
              "      <td>...</td>\n",
              "      <td>...</td>\n",
              "    </tr>\n",
              "    <tr>\n",
              "      <th>8281</th>\n",
              "      <td>@pulte I was just in an accident that totaled ...</td>\n",
              "      <td>Travel</td>\n",
              "    </tr>\n",
              "    <tr>\n",
              "      <th>8282</th>\n",
              "      <td>RT @erinriediger: My transportation costs for ...</td>\n",
              "      <td>Travel</td>\n",
              "    </tr>\n",
              "    <tr>\n",
              "      <th>8283</th>\n",
              "      <td>RT @erinriediger: My transportation costs for ...</td>\n",
              "      <td>Travel</td>\n",
              "    </tr>\n",
              "    <tr>\n",
              "      <th>8284</th>\n",
              "      <td>Just booked the rental car for NYC. So many pp...</td>\n",
              "      <td>Travel</td>\n",
              "    </tr>\n",
              "    <tr>\n",
              "      <th>8285</th>\n",
              "      <td>RT @SeamusBlackley: I once picked up @jimmyfal...</td>\n",
              "      <td>Travel</td>\n",
              "    </tr>\n",
              "  </tbody>\n",
              "</table>\n",
              "<p>8286 rows × 2 columns</p>\n",
              "</div>\n",
              "      <button class=\"colab-df-convert\" onclick=\"convertToInteractive('df-5caac6b2-b62a-4e05-8e94-33d6889a120e')\"\n",
              "              title=\"Convert this dataframe to an interactive table.\"\n",
              "              style=\"display:none;\">\n",
              "        \n",
              "  <svg xmlns=\"http://www.w3.org/2000/svg\" height=\"24px\"viewBox=\"0 0 24 24\"\n",
              "       width=\"24px\">\n",
              "    <path d=\"M0 0h24v24H0V0z\" fill=\"none\"/>\n",
              "    <path d=\"M18.56 5.44l.94 2.06.94-2.06 2.06-.94-2.06-.94-.94-2.06-.94 2.06-2.06.94zm-11 1L8.5 8.5l.94-2.06 2.06-.94-2.06-.94L8.5 2.5l-.94 2.06-2.06.94zm10 10l.94 2.06.94-2.06 2.06-.94-2.06-.94-.94-2.06-.94 2.06-2.06.94z\"/><path d=\"M17.41 7.96l-1.37-1.37c-.4-.4-.92-.59-1.43-.59-.52 0-1.04.2-1.43.59L10.3 9.45l-7.72 7.72c-.78.78-.78 2.05 0 2.83L4 21.41c.39.39.9.59 1.41.59.51 0 1.02-.2 1.41-.59l7.78-7.78 2.81-2.81c.8-.78.8-2.07 0-2.86zM5.41 20L4 18.59l7.72-7.72 1.47 1.35L5.41 20z\"/>\n",
              "  </svg>\n",
              "      </button>\n",
              "      \n",
              "  <style>\n",
              "    .colab-df-container {\n",
              "      display:flex;\n",
              "      flex-wrap:wrap;\n",
              "      gap: 12px;\n",
              "    }\n",
              "\n",
              "    .colab-df-convert {\n",
              "      background-color: #E8F0FE;\n",
              "      border: none;\n",
              "      border-radius: 50%;\n",
              "      cursor: pointer;\n",
              "      display: none;\n",
              "      fill: #1967D2;\n",
              "      height: 32px;\n",
              "      padding: 0 0 0 0;\n",
              "      width: 32px;\n",
              "    }\n",
              "\n",
              "    .colab-df-convert:hover {\n",
              "      background-color: #E2EBFA;\n",
              "      box-shadow: 0px 1px 2px rgba(60, 64, 67, 0.3), 0px 1px 3px 1px rgba(60, 64, 67, 0.15);\n",
              "      fill: #174EA6;\n",
              "    }\n",
              "\n",
              "    [theme=dark] .colab-df-convert {\n",
              "      background-color: #3B4455;\n",
              "      fill: #D2E3FC;\n",
              "    }\n",
              "\n",
              "    [theme=dark] .colab-df-convert:hover {\n",
              "      background-color: #434B5C;\n",
              "      box-shadow: 0px 1px 3px 1px rgba(0, 0, 0, 0.15);\n",
              "      filter: drop-shadow(0px 1px 2px rgba(0, 0, 0, 0.3));\n",
              "      fill: #FFFFFF;\n",
              "    }\n",
              "  </style>\n",
              "\n",
              "      <script>\n",
              "        const buttonEl =\n",
              "          document.querySelector('#df-5caac6b2-b62a-4e05-8e94-33d6889a120e button.colab-df-convert');\n",
              "        buttonEl.style.display =\n",
              "          google.colab.kernel.accessAllowed ? 'block' : 'none';\n",
              "\n",
              "        async function convertToInteractive(key) {\n",
              "          const element = document.querySelector('#df-5caac6b2-b62a-4e05-8e94-33d6889a120e');\n",
              "          const dataTable =\n",
              "            await google.colab.kernel.invokeFunction('convertToInteractive',\n",
              "                                                     [key], {});\n",
              "          if (!dataTable) return;\n",
              "\n",
              "          const docLinkHtml = 'Like what you see? Visit the ' +\n",
              "            '<a target=\"_blank\" href=https://colab.research.google.com/notebooks/data_table.ipynb>data table notebook</a>'\n",
              "            + ' to learn more about interactive tables.';\n",
              "          element.innerHTML = '';\n",
              "          dataTable['output_type'] = 'display_data';\n",
              "          await google.colab.output.renderOutput(dataTable, element);\n",
              "          const docLink = document.createElement('div');\n",
              "          docLink.innerHTML = docLinkHtml;\n",
              "          element.appendChild(docLink);\n",
              "        }\n",
              "      </script>\n",
              "    </div>\n",
              "  </div>\n",
              "  "
            ]
          },
          "metadata": {},
          "execution_count": 6
        }
      ]
    },
    {
      "cell_type": "markdown",
      "source": [
        "Data Pre-Processing"
      ],
      "metadata": {
        "id": "VYIOWzQG0p6p"
      }
    },
    {
      "cell_type": "code",
      "execution_count": 7,
      "metadata": {
        "id": "vMuGLI7V6alQ"
      },
      "outputs": [],
      "source": [
        "# Define pre-processing function\n",
        "def preprocess_text(text):\n",
        "    text = text.lower()\n",
        "    # URL removed\n",
        "    text = re.sub(r'http\\S+|www.\\S+', '', text)\n",
        "    # mention and hashtag removed\n",
        "    text = re.sub(r'@\\S+|#S+', '', text)\n",
        "    # non-ASCII removed\n",
        "    text = re.sub(r'[^\\x00-\\x7F]+', '', text)\n",
        "    # numbers removed\n",
        "    text = re.sub(r'\\d+', '', text)\n",
        "    # whitespaces removed\n",
        "    text = re.sub(r'\\s+', ' ', text)\n",
        "    # punctuations removed\n",
        "    text = re.sub(r'[^\\w\\s]', '', text)\n",
        "    # 'rt' / 'retweet' removed\n",
        "    text = re.sub(r'\\b(rt|retweet)\\b', '', text.lower())\n",
        "    # stopwords removed\n",
        "    stop_words = set(stopwords.words('english'))\n",
        "    text = ' '.join([word for word in text.split() if word.lower() not in stop_words])\n",
        "    # Lemmatization\n",
        "    lemmatizer = WordNetLemmatizer()\n",
        "    text = ' '.join([lemmatizer.lemmatize(word) for word in text.split()])\n",
        "    return text\n",
        "\n",
        "tweets_df['cleaned_text'] = tweets_df['text'].apply(preprocess_text)\n",
        "tweets_df.drop_duplicates(inplace=True)"
      ]
    },
    {
      "cell_type": "code",
      "source": [
        "sns.countplot(x='label', data=tweets_df)\n",
        "plt.show()"
      ],
      "metadata": {
        "colab": {
          "base_uri": "https://localhost:8080/",
          "height": 279
        },
        "id": "aSdxVjeE0WOQ",
        "outputId": "489d254c-8b02-495a-e12f-4d9f6102a191"
      },
      "execution_count": 8,
      "outputs": [
        {
          "output_type": "display_data",
          "data": {
            "text/plain": [
              "<Figure size 432x288 with 1 Axes>"
            ],
            "image/png": "[encoded data removed]"
          },
          "metadata": {
            "needs_background": "light"
          }
        }
      ]
    },
    {
      "cell_type": "code",
      "source": [
        "print(tweets_df['label'].value_counts())"
      ],
      "metadata": {
        "colab": {
          "base_uri": "https://localhost:8080/"
        },
        "id": "QC4LAwNAz5xR",
        "outputId": "e3cb0812-afc7-4a2d-b33f-de02781e2f93"
      },
      "execution_count": 9,
      "outputs": [
        {
          "output_type": "stream",
          "name": "stdout",
          "text": [
            "Education        815\n",
            "Politics         800\n",
            "Entertainment    762\n",
            "Sports           695\n",
            "Food             670\n",
            "Health           610\n",
            "Law              369\n",
            "Business         350\n",
            "Technology       114\n",
            "Travel           113\n",
            "Name: label, dtype: int64\n"
          ]
        }
      ]
    },
    {
      "cell_type": "code",
      "source": [
        "# label encoding\n",
        "tweets_df['label_encoded'] = LabelEncoder().fit_transform(tweets_df['label'])\n",
        "tweets_df"
      ],
      "metadata": {
        "colab": {
          "base_uri": "https://localhost:8080/",
          "height": 424
        },
        "id": "eCoL4w5I5LwX",
        "outputId": "c3965d87-7fdc-4f57-df26-7f15db86a4ed"
      },
      "execution_count": 10,
      "outputs": [
        {
          "output_type": "execute_result",
          "data": {
            "text/plain": [
              "                                                   text     label  \\\n",
              "0     Introducing Silvergate Capital. A California b...  Business   \n",
              "1     RT @shaandelhite: In the Cambridge lecture, a ...  Business   \n",
              "2     RT @GcbGulf: Financial freedom is now a realit...  Business   \n",
              "3     RT @GueshMela: \".....But, we are just survivin...  Business   \n",
              "5     @KhadryBasha @BillyM2k Money in the bank=cash ...  Business   \n",
              "...                                                 ...       ...   \n",
              "8277  I have been waiting for my Spark EV to get its...    Travel   \n",
              "8280  RT @h_adynets: Finally got my hands on this az...    Travel   \n",
              "8281  @pulte I was just in an accident that totaled ...    Travel   \n",
              "8284  Just booked the rental car for NYC. So many pp...    Travel   \n",
              "8285  RT @SeamusBlackley: I once picked up @jimmyfal...    Travel   \n",
              "\n",
              "                                           cleaned_text  label_encoded  \n",
              "0     introducing silvergate capital california bank...              0  \n",
              "1     cambridge lecture question asked list good pol...              0  \n",
              "2     financial freedom reality gulf crypto bank eas...              0  \n",
              "3     surviving honest cant explain difficultnot get...              0  \n",
              "5     money bankcash normal thinking peope idea fina...              0  \n",
              "...                                                 ...            ...  \n",
              "8277  waiting spark ev get tractionhighvoltage batte...              9  \n",
              "8280  finally got hand azure baby jeep slaying sever...              9  \n",
              "8281  accident totaled car im loss word drive uber d...              9  \n",
              "8284  booked rental car nyc many ppl think crazy try...              9  \n",
              "8285         picked rental car met person moment looked              9  \n",
              "\n",
              "[5298 rows x 4 columns]"
            ],
            "text/html": [
              "\n",
              "  <div id=\"df-f2f68c00-e959-4f1f-a53d-37bb272df4bf\">\n",
              "    <div class=\"colab-df-container\">\n",
              "      <div>\n",
              "<style scoped>\n",
              "    .dataframe tbody tr th:only-of-type {\n",
              "        vertical-align: middle;\n",
              "    }\n",
              "\n",
              "    .dataframe tbody tr th {\n",
              "        vertical-align: top;\n",
              "    }\n",
              "\n",
              "    .dataframe thead th {\n",
              "        text-align: right;\n",
              "    }\n",
              "</style>\n",
              "<table border=\"1\" class=\"dataframe\">\n",
              "  <thead>\n",
              "    <tr style=\"text-align: right;\">\n",
              "      <th></th>\n",
              "      <th>text</th>\n",
              "      <th>label</th>\n",
              "      <th>cleaned_text</th>\n",
              "      <th>label_encoded</th>\n",
              "    </tr>\n",
              "  </thead>\n",
              "  <tbody>\n",
              "    <tr>\n",
              "      <th>0</th>\n",
              "      <td>Introducing Silvergate Capital. A California b...</td>\n",
              "      <td>Business</td>\n",
              "      <td>introducing silvergate capital california bank...</td>\n",
              "      <td>0</td>\n",
              "    </tr>\n",
              "    <tr>\n",
              "      <th>1</th>\n",
              "      <td>RT @shaandelhite: In the Cambridge lecture, a ...</td>\n",
              "      <td>Business</td>\n",
              "      <td>cambridge lecture question asked list good pol...</td>\n",
              "      <td>0</td>\n",
              "    </tr>\n",
              "    <tr>\n",
              "      <th>2</th>\n",
              "      <td>RT @GcbGulf: Financial freedom is now a realit...</td>\n",
              "      <td>Business</td>\n",
              "      <td>financial freedom reality gulf crypto bank eas...</td>\n",
              "      <td>0</td>\n",
              "    </tr>\n",
              "    <tr>\n",
              "      <th>3</th>\n",
              "      <td>RT @GueshMela: \".....But, we are just survivin...</td>\n",
              "      <td>Business</td>\n",
              "      <td>surviving honest cant explain difficultnot get...</td>\n",
              "      <td>0</td>\n",
              "    </tr>\n",
              "    <tr>\n",
              "      <th>5</th>\n",
              "      <td>@KhadryBasha @BillyM2k Money in the bank=cash ...</td>\n",
              "      <td>Business</td>\n",
              "      <td>money bankcash normal thinking peope idea fina...</td>\n",
              "      <td>0</td>\n",
              "    </tr>\n",
              "    <tr>\n",
              "      <th>...</th>\n",
              "      <td>...</td>\n",
              "      <td>...</td>\n",
              "      <td>...</td>\n",
              "      <td>...</td>\n",
              "    </tr>\n",
              "    <tr>\n",
              "      <th>8277</th>\n",
              "      <td>I have been waiting for my Spark EV to get its...</td>\n",
              "      <td>Travel</td>\n",
              "      <td>waiting spark ev get tractionhighvoltage batte...</td>\n",
              "      <td>9</td>\n",
              "    </tr>\n",
              "    <tr>\n",
              "      <th>8280</th>\n",
              "      <td>RT @h_adynets: Finally got my hands on this az...</td>\n",
              "      <td>Travel</td>\n",
              "      <td>finally got hand azure baby jeep slaying sever...</td>\n",
              "      <td>9</td>\n",
              "    </tr>\n",
              "    <tr>\n",
              "      <th>8281</th>\n",
              "      <td>@pulte I was just in an accident that totaled ...</td>\n",
              "      <td>Travel</td>\n",
              "      <td>accident totaled car im loss word drive uber d...</td>\n",
              "      <td>9</td>\n",
              "    </tr>\n",
              "    <tr>\n",
              "      <th>8284</th>\n",
              "      <td>Just booked the rental car for NYC. So many pp...</td>\n",
              "      <td>Travel</td>\n",
              "      <td>booked rental car nyc many ppl think crazy try...</td>\n",
              "      <td>9</td>\n",
              "    </tr>\n",
              "    <tr>\n",
              "      <th>8285</th>\n",
              "      <td>RT @SeamusBlackley: I once picked up @jimmyfal...</td>\n",
              "      <td>Travel</td>\n",
              "      <td>picked rental car met person moment looked</td>\n",
              "      <td>9</td>\n",
              "    </tr>\n",
              "  </tbody>\n",
              "</table>\n",
              "<p>5298 rows × 4 columns</p>\n",
              "</div>\n",
              "      <button class=\"colab-df-convert\" onclick=\"convertToInteractive('df-f2f68c00-e959-4f1f-a53d-37bb272df4bf')\"\n",
              "              title=\"Convert this dataframe to an interactive table.\"\n",
              "              style=\"display:none;\">\n",
              "        \n",
              "  <svg xmlns=\"http://www.w3.org/2000/svg\" height=\"24px\"viewBox=\"0 0 24 24\"\n",
              "       width=\"24px\">\n",
              "    <path d=\"M0 0h24v24H0V0z\" fill=\"none\"/>\n",
              "    <path d=\"M18.56 5.44l.94 2.06.94-2.06 2.06-.94-2.06-.94-.94-2.06-.94 2.06-2.06.94zm-11 1L8.5 8.5l.94-2.06 2.06-.94-2.06-.94L8.5 2.5l-.94 2.06-2.06.94zm10 10l.94 2.06.94-2.06 2.06-.94-2.06-.94-.94-2.06-.94 2.06-2.06.94z\"/><path d=\"M17.41 7.96l-1.37-1.37c-.4-.4-.92-.59-1.43-.59-.52 0-1.04.2-1.43.59L10.3 9.45l-7.72 7.72c-.78.78-.78 2.05 0 2.83L4 21.41c.39.39.9.59 1.41.59.51 0 1.02-.2 1.41-.59l7.78-7.78 2.81-2.81c.8-.78.8-2.07 0-2.86zM5.41 20L4 18.59l7.72-7.72 1.47 1.35L5.41 20z\"/>\n",
              "  </svg>\n",
              "      </button>\n",
              "      \n",
              "  <style>\n",
              "    .colab-df-container {\n",
              "      display:flex;\n",
              "      flex-wrap:wrap;\n",
              "      gap: 12px;\n",
              "    }\n",
              "\n",
              "    .colab-df-convert {\n",
              "      background-color: #E8F0FE;\n",
              "      border: none;\n",
              "      border-radius: 50%;\n",
              "      cursor: pointer;\n",
              "      display: none;\n",
              "      fill: #1967D2;\n",
              "      height: 32px;\n",
              "      padding: 0 0 0 0;\n",
              "      width: 32px;\n",
              "    }\n",
              "\n",
              "    .colab-df-convert:hover {\n",
              "      background-color: #E2EBFA;\n",
              "      box-shadow: 0px 1px 2px rgba(60, 64, 67, 0.3), 0px 1px 3px 1px rgba(60, 64, 67, 0.15);\n",
              "      fill: #174EA6;\n",
              "    }\n",
              "\n",
              "    [theme=dark] .colab-df-convert {\n",
              "      background-color: #3B4455;\n",
              "      fill: #D2E3FC;\n",
              "    }\n",
              "\n",
              "    [theme=dark] .colab-df-convert:hover {\n",
              "      background-color: #434B5C;\n",
              "      box-shadow: 0px 1px 3px 1px rgba(0, 0, 0, 0.15);\n",
              "      filter: drop-shadow(0px 1px 2px rgba(0, 0, 0, 0.3));\n",
              "      fill: #FFFFFF;\n",
              "    }\n",
              "  </style>\n",
              "\n",
              "      <script>\n",
              "        const buttonEl =\n",
              "          document.querySelector('#df-f2f68c00-e959-4f1f-a53d-37bb272df4bf button.colab-df-convert');\n",
              "        buttonEl.style.display =\n",
              "          google.colab.kernel.accessAllowed ? 'block' : 'none';\n",
              "\n",
              "        async function convertToInteractive(key) {\n",
              "          const element = document.querySelector('#df-f2f68c00-e959-4f1f-a53d-37bb272df4bf');\n",
              "          const dataTable =\n",
              "            await google.colab.kernel.invokeFunction('convertToInteractive',\n",
              "                                                     [key], {});\n",
              "          if (!dataTable) return;\n",
              "\n",
              "          const docLinkHtml = 'Like what you see? Visit the ' +\n",
              "            '<a target=\"_blank\" href=https://colab.research.google.com/notebooks/data_table.ipynb>data table notebook</a>'\n",
              "            + ' to learn more about interactive tables.';\n",
              "          element.innerHTML = '';\n",
              "          dataTable['output_type'] = 'display_data';\n",
              "          await google.colab.output.renderOutput(dataTable, element);\n",
              "          const docLink = document.createElement('div');\n",
              "          docLink.innerHTML = docLinkHtml;\n",
              "          element.appendChild(docLink);\n",
              "        }\n",
              "      </script>\n",
              "    </div>\n",
              "  </div>\n",
              "  "
            ]
          },
          "metadata": {},
          "execution_count": 10
        }
      ]
    },
    {
      "cell_type": "code",
      "source": [
        "tweets_df.to_csv('cleaned_data.csv', index=False)"
      ],
      "metadata": {
        "id": "v2Sr5K1R9JHX"
      },
      "execution_count": 11,
      "outputs": []
    },
    {
      "cell_type": "code",
      "source": [
        "X_train, X_test, y_train, y_test = train_test_split(tweets_df['text'], tweets_df['label'], test_size=0.2, random_state=42)"
      ],
      "metadata": {
        "id": "ZjD0sFZi9fyH"
      },
      "execution_count": 12,
      "outputs": []
    },
    {
      "cell_type": "code",
      "source": [
        "vectorizer = TfidfVectorizer()\n",
        "X_train = vectorizer.fit_transform(X_train)\n",
        "X_test = vectorizer.transform(X_test)"
      ],
      "metadata": {
        "id": "dL4pU0uHtJ0U"
      },
      "execution_count": 13,
      "outputs": []
    },
    {
      "cell_type": "code",
      "source": [
        "def calculate_print_scores(y_test, y_pred):\n",
        "  # Accuracy score\n",
        "  score = accuracy_score(y_test, y_pred)\n",
        "  print('Accuracy:', score)\n",
        "\n",
        "  # Calculate the MCC for the predictions\n",
        "  mcc = matthews_corrcoef(y_test, y_pred)\n",
        "  print(\"MCC:\", mcc)\n",
        "\n",
        "  # # Macro-Averaging\n",
        "  # macro_accuracy = accuracy_score(y_test, y_pred)\n",
        "  # macro_precision, macro_recall, macro_f1, _ = score(y_test, y_pred, average='macro')\n",
        "  # print(\"Macro-Averaging Metrics:\")\n",
        "  # print(f\"Accuracy: {macro_accuracy:.2f}\")\n",
        "  # print(f\"Precision: {macro_precision:.2f}\")\n",
        "  # print(f\"Recall: {macro_recall:.2f}\")\n",
        "  # print(f\"F1 Score: {macro_f1:.2f}\")\n",
        "\n",
        "  # # Micro-Averaging\n",
        "  # micro_accuracy = accuracy_score(y_test, y_pred)\n",
        "  # micro_precision, micro_recall, micro_f1, _ = score(y_test, y_pred, average='micro')\n",
        "  # print(\"\\nMicro-Averaging Metrics:\")\n",
        "  # print(f\"Accuracy: {micro_accuracy:.2f}\")\n",
        "  # print(f\"Precision: {micro_precision:.2f}\")\n",
        "  # print(f\"Recall: {micro_recall:.2f}\")\n",
        "  # print(f\"F1 Score: {micro_f1:.2f}\")\n",
        "\n",
        "  # Classification Report\n",
        "  report = classification_report(y_test, y_pred)\n",
        "  print('Test set classification report:')\n",
        "  print(report)\n",
        "\n",
        "  # Confusion Matrix\n",
        "  cm = confusion_matrix(y_test, y_pred)\n",
        "  print('Confusion Matrix:')\n",
        "  print(cm)\n"
      ],
      "metadata": {
        "id": "km1JgIqHiVDF"
      },
      "execution_count": 14,
      "outputs": []
    },
    {
      "cell_type": "code",
      "source": [
        "mnb = MultinomialNB()\n",
        "mnb.fit(X_train, y_train)\n",
        "y_pred_mnb = mnb.predict(X_test)\n",
        "# calling calculate_print_scores method to print scores\n",
        "calculate_print_scores(y_test, y_pred_mnb)"
      ],
      "metadata": {
        "colab": {
          "base_uri": "https://localhost:8080/"
        },
        "id": "AcbxBjci9fDG",
        "outputId": "5c9b8e1e-3afa-4ffd-c916-3f58b35bd448"
      },
      "execution_count": 15,
      "outputs": [
        {
          "output_type": "stream",
          "name": "stdout",
          "text": [
            "Accuracy: 0.7122641509433962\n",
            "MCC: 0.6748780355765085\n",
            "Test set classification report:\n",
            "               precision    recall  f1-score   support\n",
            "\n",
            "     Business       1.00      0.44      0.61        75\n",
            "    Education       0.58      0.84      0.69       175\n",
            "Entertainment       0.80      0.82      0.81       154\n",
            "         Food       0.91      0.69      0.78       125\n",
            "       Health       0.87      0.85      0.86       110\n",
            "          Law       1.00      0.20      0.34        74\n",
            "     Politics       0.52      0.86      0.65       162\n",
            "       Sports       0.90      0.85      0.87       134\n",
            "   Technology       1.00      0.04      0.07        28\n",
            "       Travel       0.00      0.00      0.00        23\n",
            "\n",
            "     accuracy                           0.71      1060\n",
            "    macro avg       0.76      0.56      0.57      1060\n",
            " weighted avg       0.77      0.71      0.69      1060\n",
            "\n",
            "Confusion Matrix:\n",
            "[[ 33  10   0   2   1   0  29   0   0   0]\n",
            " [  0 147   4   1   4   0  16   3   0   0]\n",
            " [  0  14 126   0   0   0  10   4   0   0]\n",
            " [  0  19   5  86   3   0  11   1   0   0]\n",
            " [  0   9   1   1  93   0   5   1   0   0]\n",
            " [  0  14   1   0   4  15  39   1   0   0]\n",
            " [  0  14   6   1   0   0 140   1   0   0]\n",
            " [  0   6   5   0   0   0   9 114   0   0]\n",
            " [  0  11   6   1   1   0   7   1   1   0]\n",
            " [  0  10   3   3   1   0   5   1   0   0]]\n"
          ]
        },
        {
          "output_type": "stream",
          "name": "stderr",
          "text": [
            "/usr/local/lib/python3.8/dist-packages/sklearn/metrics/_classification.py:1344: UndefinedMetricWarning: Precision and F-score are ill-defined and being set to 0.0 in labels with no predicted samples. Use `zero_division` parameter to control this behavior.\n",
            "  _warn_prf(average, modifier, msg_start, len(result))\n",
            "/usr/local/lib/python3.8/dist-packages/sklearn/metrics/_classification.py:1344: UndefinedMetricWarning: Precision and F-score are ill-defined and being set to 0.0 in labels with no predicted samples. Use `zero_division` parameter to control this behavior.\n",
            "  _warn_prf(average, modifier, msg_start, len(result))\n",
            "/usr/local/lib/python3.8/dist-packages/sklearn/metrics/_classification.py:1344: UndefinedMetricWarning: Precision and F-score are ill-defined and being set to 0.0 in labels with no predicted samples. Use `zero_division` parameter to control this behavior.\n",
            "  _warn_prf(average, modifier, msg_start, len(result))\n"
          ]
        }
      ]
    },
    {
      "cell_type": "code",
      "source": [
        "lr = LogisticRegression(max_iter=1000)\n",
        "lr.fit(X_train, y_train)\n",
        "y_pred_lr = lr.predict(X_test)\n",
        "# calling calculate_print_scores method to print scores\n",
        "calculate_print_scores(y_test, y_pred_lr)"
      ],
      "metadata": {
        "id": "90nM31IFuqh3",
        "colab": {
          "base_uri": "https://localhost:8080/"
        },
        "outputId": "1e6fbf95-9137-40f0-a471-06fda3db8f0d"
      },
      "execution_count": 16,
      "outputs": [
        {
          "output_type": "stream",
          "name": "stdout",
          "text": [
            "Accuracy: 0.8462264150943396\n",
            "MCC: 0.8247848427997525\n",
            "Test set classification report:\n",
            "               precision    recall  f1-score   support\n",
            "\n",
            "     Business       1.00      0.89      0.94        75\n",
            "    Education       0.74      0.86      0.80       175\n",
            "Entertainment       0.78      0.90      0.84       154\n",
            "         Food       0.87      0.86      0.86       125\n",
            "       Health       0.95      0.81      0.87       110\n",
            "          Law       0.97      0.78      0.87        74\n",
            "     Politics       0.74      0.85      0.79       162\n",
            "       Sports       0.99      0.85      0.92       134\n",
            "   Technology       1.00      0.71      0.83        28\n",
            "       Travel       0.94      0.74      0.83        23\n",
            "\n",
            "     accuracy                           0.85      1060\n",
            "    macro avg       0.90      0.82      0.85      1060\n",
            " weighted avg       0.86      0.85      0.85      1060\n",
            "\n",
            "Confusion Matrix:\n",
            "[[ 67   2   0   1   0   0   5   0   0   0]\n",
            " [  0 150   5   4   3   0  11   1   0   1]\n",
            " [  0   9 138   1   0   0   6   0   0   0]\n",
            " [  0   7   7 107   2   0   2   0   0   0]\n",
            " [  0   8   4   4  89   1   4   0   0   0]\n",
            " [  0   6   3   0   0  58   7   0   0   0]\n",
            " [  0  13   7   4   0   1 137   0   0   0]\n",
            " [  0   4   7   0   0   0   9 114   0   0]\n",
            " [  0   3   2   1   0   0   2   0  20   0]\n",
            " [  0   0   3   1   0   0   2   0   0  17]]\n"
          ]
        }
      ]
    },
    {
      "cell_type": "code",
      "source": [
        "rf = RandomForestClassifier()\n",
        "rf.fit(X_train, y_train)\n",
        "y_pred_rf = rf.predict(X_test)\n",
        "# calling calculate_print_scores method to print scores\n",
        "calculate_print_scores(y_test, y_pred_rf)"
      ],
      "metadata": {
        "id": "adxVHsNmtQCn",
        "colab": {
          "base_uri": "https://localhost:8080/"
        },
        "outputId": "50beb318-0f2a-4d97-e891-ac2ed94d0ff6"
      },
      "execution_count": 17,
      "outputs": [
        {
          "output_type": "stream",
          "name": "stdout",
          "text": [
            "Accuracy: 0.8443396226415094\n",
            "MCC: 0.8228169209996434\n",
            "Test set classification report:\n",
            "               precision    recall  f1-score   support\n",
            "\n",
            "     Business       0.99      0.93      0.96        75\n",
            "    Education       0.79      0.82      0.80       175\n",
            "Entertainment       0.79      0.86      0.82       154\n",
            "         Food       0.91      0.89      0.90       125\n",
            "       Health       0.90      0.84      0.87       110\n",
            "          Law       0.97      0.77      0.86        74\n",
            "     Politics       0.69      0.84      0.76       162\n",
            "       Sports       0.96      0.80      0.87       134\n",
            "   Technology       0.96      0.86      0.91        28\n",
            "       Travel       0.96      1.00      0.98        23\n",
            "\n",
            "     accuracy                           0.84      1060\n",
            "    macro avg       0.89      0.86      0.87      1060\n",
            " weighted avg       0.86      0.84      0.85      1060\n",
            "\n",
            "Confusion Matrix:\n",
            "[[ 70   1   0   1   0   0   3   0   0   0]\n",
            " [  0 143   7   2   4   0  15   2   1   1]\n",
            " [  0   7 132   3   1   0  10   1   0   0]\n",
            " [  0   3   4 111   2   0   5   0   0   0]\n",
            " [  1   4   4   1  92   1   7   0   0   0]\n",
            " [  0   2   4   1   1  57   9   0   0   0]\n",
            " [  0  14   7   1   2   1 136   1   0   0]\n",
            " [  0   7   9   2   0   0   9 107   0   0]\n",
            " [  0   1   1   0   0   0   2   0  24   0]\n",
            " [  0   0   0   0   0   0   0   0   0  23]]\n"
          ]
        }
      ]
    },
    {
      "cell_type": "code",
      "execution_count": 18,
      "metadata": {
        "id": "LMFgWyDpANUK",
        "colab": {
          "base_uri": "https://localhost:8080/"
        },
        "outputId": "bfe39f9c-d308-40ee-89fc-a0973aa970bf"
      },
      "outputs": [
        {
          "output_type": "stream",
          "name": "stdout",
          "text": [
            "Accuracy: 0.8783018867924528\n",
            "MCC: 0.8610934867010639\n",
            "Test set classification report:\n",
            "               precision    recall  f1-score   support\n",
            "\n",
            "     Business       0.99      0.93      0.96        75\n",
            "    Education       0.84      0.85      0.85       175\n",
            "Entertainment       0.84      0.88      0.86       154\n",
            "         Food       0.88      0.90      0.89       125\n",
            "       Health       0.88      0.85      0.86       110\n",
            "          Law       0.95      0.85      0.90        74\n",
            "     Politics       0.83      0.86      0.85       162\n",
            "       Sports       0.92      0.90      0.91       134\n",
            "   Technology       0.93      0.89      0.91        28\n",
            "       Travel       0.96      1.00      0.98        23\n",
            "\n",
            "     accuracy                           0.88      1060\n",
            "    macro avg       0.90      0.89      0.90      1060\n",
            " weighted avg       0.88      0.88      0.88      1060\n",
            "\n",
            "Confusion Matrix:\n",
            "[[ 70   1   0   1   1   0   2   0   0   0]\n",
            " [  1 149   2   6   3   0   7   5   1   1]\n",
            " [  0   6 136   0   1   0   7   4   0   0]\n",
            " [  0   4   1 112   3   0   3   2   0   0]\n",
            " [  0   4   5   3  93   1   3   0   1   0]\n",
            " [  0   2   3   1   1  63   4   0   0   0]\n",
            " [  0   7   7   4   2   2 140   0   0   0]\n",
            " [  0   4   5   0   2   0   3 120   0   0]\n",
            " [  0   0   2   1   0   0   0   0  25   0]\n",
            " [  0   0   0   0   0   0   0   0   0  23]]\n"
          ]
        }
      ],
      "source": [
        "svm = LinearSVC()\n",
        "svm.fit(X_train, y_train)\n",
        "y_pred_svm = svm.predict(X_test)\n",
        "# calling calculate_print_scores method to print scores\n",
        "calculate_print_scores(y_test, y_pred_svm)"
      ]
    }
  ],
  "metadata": {
    "colab": {
      "provenance": [],
      "authorship_tag": "ABX9TyOzBQAPiUAwe8qjY7Hlvv6L",
      "include_colab_link": true
    },
    "kernelspec": {
      "display_name": "Python 3",
      "name": "python3"
    },
    "language_info": {
      "name": "python"
    }
  },
  "nbformat": 4,
  "nbformat_minor": 0
}